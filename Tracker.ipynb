{
 "cells": [
  {
   "cell_type": "markdown",
   "id": "cb1dcc24",
   "metadata": {},
   "source": [
    "# Tracker"
   ]
  },
  {
   "cell_type": "markdown",
   "id": "7ef37616",
   "metadata": {},
   "source": [
    "### Imports"
   ]
  },
  {
   "cell_type": "code",
   "execution_count": 1,
   "id": "c30c3172852f6e39",
   "metadata": {
    "ExecuteTime": {
     "end_time": "2024-02-08T18:58:15.505366500Z",
     "start_time": "2024-02-08T18:58:14.619569100Z"
    }
   },
   "outputs": [],
   "source": [
    "import json\n",
    "import mimetypes\n",
    "import multiprocessing\n",
    "import os\n",
    "\n",
    "import cv2 as cv\n",
    "from matplotlib import pyplot as plt\n",
    "import numpy as np\n",
    "from tqdm import tqdm\n"
   ]
  },
  {
   "cell_type": "markdown",
   "id": "2d233cec",
   "metadata": {},
   "source": [
    "### Code for processing a single video"
   ]
  },
  {
   "cell_type": "code",
   "execution_count": 6,
   "id": "5d54bf9e0cbf1afd",
   "metadata": {
    "ExecuteTime": {
     "end_time": "2024-02-08T18:58:15.538361300Z",
     "start_time": "2024-02-08T18:58:15.518976700Z"
    }
   },
   "outputs": [],
   "source": [
    "def process_video(video_path, template_path, gui=False, pid=None, save_to_file=None):\n",
    "    cap = cv.VideoCapture(video_path)\n",
    "    template = cv.imread(template_path)\n",
    "    template_w, template_h = template.shape[1], template.shape[0]\n",
    "\n",
    "    output = None\n",
    "    if save_to_file:\n",
    "        output = cv.VideoWriter(save_to_file, cv.VideoWriter.fourcc(*\"MPEG\"), cap.get(cv.CAP_PROP_FPS), (int(cap.get(cv.CAP_PROP_FRAME_WIDTH)), int(cap.get(cv.CAP_PROP_FRAME_HEIGHT))))\n",
    "\n",
    "    # Array with video data. columns = [frame_nr, y_from_top, x_from_left]\n",
    "    # Note: a Python list is used instead of a numpy array because python lists are faster for loops appending to the list.\n",
    "    # https://towardsdatascience.com/python-lists-are-sometimes-much-faster-than-numpy-heres-a-proof-4b3dad4653ad\n",
    "    video_data = []\n",
    "\n",
    "    try:\n",
    "        # Read until video is completed\n",
    "        truncated_path = video_path[-20:]\n",
    "        with tqdm(total=int(cap.get(cv.CAP_PROP_FRAME_COUNT)), desc=f\"#{pid} - Processing {truncated_path}\", position=pid, leave=False) as pbar:\n",
    "            while cap.isOpened():\n",
    "                pbar.update(1)\n",
    "\n",
    "                # Capture frame-by-frame\n",
    "                frame_available, frame = cap.read()\n",
    "                if not frame_available:\n",
    "                    break\n",
    "\n",
    "                # Method used by the matching algorithm.\n",
    "                method = cv.TM_CCOEFF_NORMED\n",
    "\n",
    "                # If video_data already contains a datapoint, limit the search area to speed up seaching process.\n",
    "                if len(video_data):\n",
    "                    last_location = (video_data[-1][1], video_data[-1][2])\n",
    "\n",
    "                    # Size of the searching area compared to the template size.\n",
    "                    shape_factor = 1.2\n",
    "\n",
    "                    y_min = max((last_location[0] - int(shape_factor * template_h)), 0)\n",
    "                    y_max = max((last_location[0] + int(shape_factor * template_h)), 0)\n",
    "                    x_min = max((last_location[1] - int(shape_factor * template_w)), 0)\n",
    "                    x_max = max((last_location[1] + int(shape_factor * template_w)), 0)\n",
    "\n",
    "                    limited_frame = frame[y_min:y_max, x_min:x_max]\n",
    "                    limited_result = cv.matchTemplate(limited_frame, template, method)\n",
    "\n",
    "                    result = np.empty(((frame.shape[0] - template_h + 1), (frame.shape[1] - template_w + 1)))\n",
    "\n",
    "                    result[y_min:(y_min + limited_result.shape[0]), x_min:(x_min + limited_result.shape[1])] = limited_result\n",
    "\n",
    "                    # Draw searching area.\n",
    "                    cv.rectangle(frame, (x_min, y_min), (x_max, y_max), (0, 255, 0), 2)\n",
    "                else:\n",
    "                    result = cv.matchTemplate(frame, template, method)\n",
    "\n",
    "                # Threshold for a positive result.\n",
    "                threshold = 0.8\n",
    "                if np.max(result) >= threshold:\n",
    "                    loc = np.where(result == np.max(result))\n",
    "\n",
    "                    top_left = np.array([loc[0][0], loc[1][0]])\n",
    "                    bottom_right = (top_left[0] + template_h, top_left[1] + template_w)\n",
    "\n",
    "                    # Draw template region.\n",
    "                    # Please note: cv.rectangle uses (x,y) instead of (y,x) like numpy does. Therefore array is turned around using [::-1]\n",
    "                    cv.rectangle(frame, top_left[::-1], bottom_right[::-1], (255, 0, 0), 2)\n",
    "\n",
    "                    # Saving datapoint to video_data.\n",
    "                    frame_nr = int(cap.get(cv.CAP_PROP_POS_FRAMES))\n",
    "                    y_from_top = (top_left[0] + bottom_right[0]) // 2\n",
    "                    x_from_left = (top_left[1] + bottom_right[1]) // 2\n",
    "\n",
    "                    video_data.append([frame_nr, y_from_top, x_from_left])\n",
    "\n",
    "                    # Draw tracked point.\n",
    "                    cv.rectangle(frame, (x_from_left - 1, y_from_top - 1), (x_from_left + 1, y_from_top + 1), (0, 0, 255), 2)\n",
    "\n",
    "                # GUI can be disabled since it slows down the program significantly (about 6x).\n",
    "                if gui:\n",
    "                    # Display the resulting frame\n",
    "                    cv.imshow('Frame', frame)\n",
    "\n",
    "                    # Press Q on keyboard to  exit\n",
    "                    if cv.waitKey(25) & 0xFF == ord('q'):\n",
    "                        break\n",
    "                        \n",
    "                if save_to_file and output:\n",
    "                    output.write(frame)\n",
    "\n",
    "            pbar.refresh()\n",
    "            # pbar.clear()\n",
    "    finally:\n",
    "        cap.release()\n",
    "        cv.destroyAllWindows()\n",
    "        \n",
    "        if output:\n",
    "            output.release()\n",
    "\n",
    "    return np.array(video_data)\n",
    "\n",
    "\n",
    "def video_worker(video_path, settings_path, pid=None):\n",
    "    settings_file = open(settings_path)\n",
    "    # Dictionary containing relevant settings. Should contain 'fps': int, 'template': path, 'scale': float.\n",
    "    # Scale = pixels/meter\n",
    "    settings = json.load(settings_file)\n",
    "    settings_file.close()\n",
    "\n",
    "    template_path = settings[\"template\"]\n",
    "\n",
    "    video_data = process_video(video_path, template_path, gui=False, pid=pid)\n",
    "\n",
    "    data_file_path = f\"{os.path.splitext(video_path)[0]}.csv\"\n",
    "    np.savetxt(data_file_path, video_data, delimiter=';', header=\"frame_nr;y_from_top;x_from_left\")\n"
   ]
  },
  {
   "cell_type": "markdown",
   "id": "2fae6eb7",
   "metadata": {},
   "source": [
    "### Code for handling queue"
   ]
  },
  {
   "cell_type": "code",
   "execution_count": 4,
   "id": "d1fa31c8",
   "metadata": {},
   "outputs": [],
   "source": [
    "def generate_queue(root_directory):\n",
    "    # Queue contains all files to be analysed with the corresponding settings file. columns = [file_path, settings_path, pid]\n",
    "    queue = []\n",
    "\n",
    "    pid = 1\n",
    "    for dir, subdirs, files in os.walk(root_directory):\n",
    "        if \"tracker.json\" in files:\n",
    "            settings_path = os.path.join(dir, \"tracker.json\")\n",
    "            for file in files:\n",
    "                file_path = os.path.join(dir, file)\n",
    "                if mimetypes.guess_type(file_path)[0].startswith(\"video\"):\n",
    "                    queue.append((file_path, settings_path, pid))\n",
    "                    pid += 1\n",
    "\n",
    "    return tuple(queue)\n",
    "\n",
    "\n",
    "def process_queue(queue):\n",
    "    multiprocessing.freeze_support()\n",
    "    num_cores = 4\n",
    "    with multiprocessing.Pool(processes=num_cores, initargs=(multiprocessing.RLock(),), initializer=tqdm.set_lock) as pool:\n",
    "        try:\n",
    "            jobs = [pool.apply_async(video_worker, args=(file_path, settings_path, pid,)) for file_path, settings_path, pid in queue]\n",
    "            pool.close()\n",
    "            results = [job.get() for job in tqdm(jobs, desc=\"Processing of all videos\", position=0)]\n",
    "        finally:\n",
    "            pool.terminate()\n"
   ]
  },
  {
   "cell_type": "markdown",
   "id": "a8669845",
   "metadata": {},
   "source": [
    "### Main function"
   ]
  },
  {
   "cell_type": "code",
   "execution_count": 6,
   "id": "38c6dd53",
   "metadata": {},
   "outputs": [],
   "source": [
    "def main():\n",
    "    welcome_screen = \"\"\"   \n",
    "┌─────────────────────┐\n",
    "│                     │\n",
    "│ Welcome to Tracker! │\n",
    "│                     │\n",
    "│    Version 1.0.0    │\n",
    "│                     │\n",
    "└─────────────────────┘\\n\"\"\"\n",
    "    print(welcome_screen)\n",
    "\n",
    "    print(\"Please provide the root directory containing the video and settings files.\")\n",
    "    root_directory = input(\"Root directory > \")\n",
    "\n",
    "    queue = generate_queue(root_directory)\n",
    "\n",
    "    print(f\"\\n{len(queue)} files were found with a corresponding tracker.json file.\")\n",
    "    while True:\n",
    "        print(\"Do you wish to start processing?\")\n",
    "        response = input(\"[y/n] > \")\n",
    "        if response == \"y\":\n",
    "            print(\"Starting processing...\")\n",
    "            process_queue(queue)\n",
    "            return\n",
    "        elif response == \"n\":\n",
    "            print(\"K bye.\")\n",
    "            return\n",
    "        else:\n",
    "            print(\"The response was invalid.\")\n"
   ]
  },
  {
   "cell_type": "markdown",
   "id": "f22477be",
   "metadata": {},
   "source": [
    "### Testing code"
   ]
  },
  {
   "cell_type": "code",
   "execution_count": 8,
   "id": "30a8e639",
   "metadata": {},
   "outputs": [
    {
     "name": "stderr",
     "output_type": "stream",
     "text": [
      "                                                                                           "
     ]
    },
    {
     "name": "stdout",
     "output_type": "stream",
     "text": [
      "Wall time: 1min 18s\n"
     ]
    },
    {
     "name": "stderr",
     "output_type": "stream",
     "text": [
      "\r"
     ]
    }
   ],
   "source": [
    "%%time\n",
    "data = process_video(r'C:\\Users\\timoh\\Videos\\Luchtkussenbaan_Practicum\\nieuw\\720p_480p\\kar1\\2_magneten\\4_gewichten\\launcher\\22_papier\\Run_1.mp4', 'template.png', gui=True)"
   ]
  },
  {
   "cell_type": "code",
   "execution_count": 26,
   "id": "0ba635c4",
   "metadata": {},
   "outputs": [
    {
     "name": "stdout",
     "output_type": "stream",
     "text": [
      "[]\n"
     ]
    }
   ],
   "source": [
    "queue = generate_queue(r\"C:\\Users\\timoh\\Videos\\Luchtkussenbaan_Practicum\\nieuw\\720p_480p\")\n",
    "print(queue)"
   ]
  },
  {
   "cell_type": "code",
   "execution_count": 22,
   "id": "a90f6aa0",
   "metadata": {},
   "outputs": [
    {
     "data": {
      "text/plain": [
       "[<matplotlib.lines.Line2D at 0x23c67f416a0>]"
      ]
     },
     "execution_count": 22,
     "metadata": {},
     "output_type": "execute_result"
    },
    {
     "data": {
      "image/png": "[encoded data removed]",
      "text/plain": [
       "<Figure size 432x288 with 1 Axes>"
      ]
     },
     "metadata": {
      "needs_background": "light"
     },
     "output_type": "display_data"
    }
   ],
   "source": [
    "plt.figure()\n",
    "plt.plot(data[:,0], data[:,2])"
   ]
  },
  {
   "cell_type": "code",
   "execution_count": 7,
   "id": "227ec8f9bfb47ef4",
   "metadata": {
    "ExecuteTime": {
     "end_time": "2024-02-08T18:58:37.712878900Z",
     "start_time": "2024-02-08T18:58:25.350895400Z"
    },
    "collapsed": false
   },
   "outputs": [
    {
     "name": "stderr",
     "output_type": "stream",
     "text": [
      "                                                                                    \r"
     ]
    },
    {
     "data": {
      "text/plain": [
       "array([[ 354,  314,   11],\n",
       "       [ 355,  314,   13],\n",
       "       [ 356,  314,   15],\n",
       "       ...,\n",
       "       [1682,  310,  894],\n",
       "       [1683,  311,  894],\n",
       "       [1684,  311,  894]], dtype=int64)"
      ]
     },
     "execution_count": 7,
     "metadata": {},
     "output_type": "execute_result"
    }
   ],
   "source": [
    "process_video(r'.\\video2.mp4', 'template.png', save_to_file=\"output.mp4\")"
   ]
  }
 ],
 "metadata": {
  "interpreter": {
   "hash": "4b995ebd7b6d1f690a251ab7a46da3cbf5d69f797ed292e1903749ce58dd23d3"
  },
  "kernelspec": {
   "display_name": "Python 3.9.5 64-bit ('base': conda)",
   "language": "python",
   "name": "python3"
  },
  "language_info": {
   "codemirror_mode": {
    "name": "ipython",
    "version": 3
   },
   "file_extension": ".py",
   "mimetype": "text/x-python",
   "name": "python",
   "nbconvert_exporter": "python",
   "pygments_lexer": "ipython3",
   "version": "3.10.10"
  }
 },
 "nbformat": 4,
 "nbformat_minor": 5
}
